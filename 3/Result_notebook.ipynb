{
 "cells": [
  {
   "cell_type": "code",
   "execution_count": 4,
   "metadata": {},
   "outputs": [],
   "source": [
    "import torch \n",
    "import numpy as np\n",
    "import pandas as pd\n",
    "from models.autoencoder import AETranner, AE\n",
    "from models.dataloader import Dataload\n",
    "from models.classifier import Classifier, TrainerClass\n",
    "import matplotlib.pyplot as plt\n",
    "import matplotlib.style as ms\n",
    "ms.use('seaborn-muted')\n",
    "%matplotlib inline\n",
    "\n",
    "# and IPython.display for audio output\n",
    "import IPython.display\n",
    "\n",
    "# Librosa for audio\n",
    "import librosa\n",
    "# And the display module for visualization\n",
    "import librosa.display"
   ]
  },
  {
   "cell_type": "code",
   "execution_count": 5,
   "metadata": {},
   "outputs": [
    {
     "data": {
      "text/plain": [
       "AE(\n",
       "  (encoder): Sequential(\n",
       "    (0): Linear(in_features=39, out_features=32, bias=True)\n",
       "    (1): ReLU(inplace)\n",
       "    (2): Linear(in_features=32, out_features=20, bias=True)\n",
       "    (3): ReLU(inplace)\n",
       "    (4): Linear(in_features=20, out_features=20, bias=True)\n",
       "  )\n",
       "  (decoder): Sequential(\n",
       "    (0): Linear(in_features=20, out_features=20, bias=True)\n",
       "    (1): ReLU(inplace)\n",
       "    (2): Linear(in_features=20, out_features=32, bias=True)\n",
       "    (3): ReLU(inplace)\n",
       "    (4): Linear(in_features=32, out_features=39, bias=True)\n",
       "  )\n",
       ")"
      ]
     },
     "execution_count": 5,
     "metadata": {},
     "output_type": "execute_result"
    }
   ],
   "source": [
    "model = AE(13*3)\n",
    "model.load_state_dict(torch.load('ckpt/model1_2_9.pt'))\n",
    "model.eval()\n"
   ]
  },
  {
   "cell_type": "code",
   "execution_count": 6,
   "metadata": {},
   "outputs": [],
   "source": [
    "loader = Dataload()\n",
    "train_feat, train_labels, test_feat, test_label = loader.class_train_test('noise_data_feat.csv', batch_size=50, \n",
    "                                                                        shuffle=True, train_ratio=0.95)\n"
   ]
  },
  {
   "cell_type": "code",
   "execution_count": null,
   "metadata": {},
   "outputs": [],
   "source": [
    "unnoise = model(test_feat)\n",
    "clasifier = Classifier(13*3, num_classes=109, batch_size=50)\n",
    "clasifier.load_state_dict(torch.load('ckpt_class/model__3.pt'))\n",
    "class_trainer = TrainerClass(clasifier)"
   ]
  },
  {
   "cell_type": "code",
   "execution_count": 14,
   "metadata": {},
   "outputs": [
    {
     "name": "stdout",
     "output_type": "stream",
     "text": [
      "torch.Size([15769, 50, 128])\n"
     ]
    }
   ],
   "source": [
    "res = clasifier(test_feat)"
   ]
  },
  {
   "cell_type": "code",
   "execution_count": 16,
   "metadata": {},
   "outputs": [],
   "source": [
    "res = clasifier(unnoise)\n",
    "res = torch.argmax(res, 2).view(-1)\n",
    "test_label = test_label.view(-1).long()"
   ]
  },
  {
   "cell_type": "code",
   "execution_count": 24,
   "metadata": {},
   "outputs": [],
   "source": [
    "l = test_label.size()[0]\n",
    "val = torch.sum(res==test_label).item()"
   ]
  },
  {
   "cell_type": "markdown",
   "metadata": {},
   "source": [
    "### Accuracy classification"
   ]
  },
  {
   "cell_type": "code",
   "execution_count": 25,
   "metadata": {},
   "outputs": [
    {
     "data": {
      "text/plain": [
       "0.4720172490329127"
      ]
     },
     "execution_count": 25,
     "metadata": {},
     "output_type": "execute_result"
    }
   ],
   "source": [
    "val/l"
   ]
  },
  {
   "cell_type": "code",
   "execution_count": null,
   "metadata": {},
   "outputs": [],
   "source": []
  }
 ],
 "metadata": {
  "kernelspec": {
   "display_name": "Python 3",
   "language": "python",
   "name": "python3"
  },
  "language_info": {
   "codemirror_mode": {
    "name": "ipython",
    "version": 3
   },
   "file_extension": ".py",
   "mimetype": "text/x-python",
   "name": "python",
   "nbconvert_exporter": "python",
   "pygments_lexer": "ipython3",
   "version": "3.6.6"
  }
 },
 "nbformat": 4,
 "nbformat_minor": 2
}
